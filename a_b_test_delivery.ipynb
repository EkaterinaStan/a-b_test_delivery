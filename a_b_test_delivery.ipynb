{
 "cells": [
  {
   "cell_type": "code",
   "execution_count": 2,
   "metadata": {},
   "outputs": [],
   "source": [
    "import pandas as pd\n",
    "import numpy as np\n",
    "import matplotlib.pyplot as plt\n",
    "import seaborn as sns\n",
    "from scipy import stats"
   ]
  },
  {
   "cell_type": "markdown",
   "metadata": {},
   "source": [
    "# Загружаем данные"
   ]
  },
  {
   "cell_type": "code",
   "execution_count": 3,
   "metadata": {},
   "outputs": [],
   "source": [
    "users_data = pd.read_csv('https://getfile.dokpub.com/yandex/get/https://disk.yandex.ru/d/4qY27tJ23G_B1g')\n",
    "orders = pd.read_csv('https://getfile.dokpub.com/yandex/get/https://disk.yandex.ru/d/prdO8FDQx7lzCg')\n",
    "products = pd.read_csv('https://getfile.dokpub.com/yandex/get/https://disk.yandex.ru/d/atwrlmB_wu-fHA')"
   ]
  },
  {
   "cell_type": "markdown",
   "metadata": {},
   "source": [
    "## Пользователи"
   ]
  },
  {
   "cell_type": "code",
   "execution_count": 4,
   "metadata": {},
   "outputs": [
    {
     "data": {
      "text/html": [
       "<div>\n",
       "<style scoped>\n",
       "    .dataframe tbody tr th:only-of-type {\n",
       "        vertical-align: middle;\n",
       "    }\n",
       "\n",
       "    .dataframe tbody tr th {\n",
       "        vertical-align: top;\n",
       "    }\n",
       "\n",
       "    .dataframe thead th {\n",
       "        text-align: right;\n",
       "    }\n",
       "</style>\n",
       "<table border=\"1\" class=\"dataframe\">\n",
       "  <thead>\n",
       "    <tr style=\"text-align: right;\">\n",
       "      <th></th>\n",
       "      <th>user_id</th>\n",
       "      <th>order_id</th>\n",
       "      <th>action</th>\n",
       "      <th>time</th>\n",
       "      <th>date</th>\n",
       "      <th>group</th>\n",
       "    </tr>\n",
       "  </thead>\n",
       "  <tbody>\n",
       "    <tr>\n",
       "      <th>0</th>\n",
       "      <td>964</td>\n",
       "      <td>1255</td>\n",
       "      <td>create_order</td>\n",
       "      <td>2022-08-26 00:00:19.000000</td>\n",
       "      <td>2022-08-26</td>\n",
       "      <td>0</td>\n",
       "    </tr>\n",
       "    <tr>\n",
       "      <th>1</th>\n",
       "      <td>965</td>\n",
       "      <td>1256</td>\n",
       "      <td>create_order</td>\n",
       "      <td>2022-08-26 00:02:21.000000</td>\n",
       "      <td>2022-08-26</td>\n",
       "      <td>1</td>\n",
       "    </tr>\n",
       "    <tr>\n",
       "      <th>2</th>\n",
       "      <td>964</td>\n",
       "      <td>1257</td>\n",
       "      <td>create_order</td>\n",
       "      <td>2022-08-26 00:02:27.000000</td>\n",
       "      <td>2022-08-26</td>\n",
       "      <td>0</td>\n",
       "    </tr>\n",
       "    <tr>\n",
       "      <th>3</th>\n",
       "      <td>966</td>\n",
       "      <td>1258</td>\n",
       "      <td>create_order</td>\n",
       "      <td>2022-08-26 00:02:56.000000</td>\n",
       "      <td>2022-08-26</td>\n",
       "      <td>0</td>\n",
       "    </tr>\n",
       "    <tr>\n",
       "      <th>4</th>\n",
       "      <td>967</td>\n",
       "      <td>1259</td>\n",
       "      <td>create_order</td>\n",
       "      <td>2022-08-26 00:03:37.000000</td>\n",
       "      <td>2022-08-26</td>\n",
       "      <td>1</td>\n",
       "    </tr>\n",
       "    <tr>\n",
       "      <th>5</th>\n",
       "      <td>968</td>\n",
       "      <td>1261</td>\n",
       "      <td>create_order</td>\n",
       "      <td>2022-08-26 00:05:35.000000</td>\n",
       "      <td>2022-08-26</td>\n",
       "      <td>0</td>\n",
       "    </tr>\n",
       "    <tr>\n",
       "      <th>6</th>\n",
       "      <td>969</td>\n",
       "      <td>1262</td>\n",
       "      <td>create_order</td>\n",
       "      <td>2022-08-26 00:06:25.000000</td>\n",
       "      <td>2022-08-26</td>\n",
       "      <td>0</td>\n",
       "    </tr>\n",
       "    <tr>\n",
       "      <th>7</th>\n",
       "      <td>970</td>\n",
       "      <td>1263</td>\n",
       "      <td>create_order</td>\n",
       "      <td>2022-08-26 00:08:22.000000</td>\n",
       "      <td>2022-08-26</td>\n",
       "      <td>1</td>\n",
       "    </tr>\n",
       "    <tr>\n",
       "      <th>8</th>\n",
       "      <td>966</td>\n",
       "      <td>1258</td>\n",
       "      <td>cancel_order</td>\n",
       "      <td>2022-08-26 00:08:25.486419</td>\n",
       "      <td>2022-08-26</td>\n",
       "      <td>0</td>\n",
       "    </tr>\n",
       "    <tr>\n",
       "      <th>9</th>\n",
       "      <td>971</td>\n",
       "      <td>1264</td>\n",
       "      <td>create_order</td>\n",
       "      <td>2022-08-26 00:10:53.000000</td>\n",
       "      <td>2022-08-26</td>\n",
       "      <td>1</td>\n",
       "    </tr>\n",
       "  </tbody>\n",
       "</table>\n",
       "</div>"
      ],
      "text/plain": [
       "   user_id  order_id        action                        time        date  \\\n",
       "0      964      1255  create_order  2022-08-26 00:00:19.000000  2022-08-26   \n",
       "1      965      1256  create_order  2022-08-26 00:02:21.000000  2022-08-26   \n",
       "2      964      1257  create_order  2022-08-26 00:02:27.000000  2022-08-26   \n",
       "3      966      1258  create_order  2022-08-26 00:02:56.000000  2022-08-26   \n",
       "4      967      1259  create_order  2022-08-26 00:03:37.000000  2022-08-26   \n",
       "5      968      1261  create_order  2022-08-26 00:05:35.000000  2022-08-26   \n",
       "6      969      1262  create_order  2022-08-26 00:06:25.000000  2022-08-26   \n",
       "7      970      1263  create_order  2022-08-26 00:08:22.000000  2022-08-26   \n",
       "8      966      1258  cancel_order  2022-08-26 00:08:25.486419  2022-08-26   \n",
       "9      971      1264  create_order  2022-08-26 00:10:53.000000  2022-08-26   \n",
       "\n",
       "   group  \n",
       "0      0  \n",
       "1      1  \n",
       "2      0  \n",
       "3      0  \n",
       "4      1  \n",
       "5      0  \n",
       "6      0  \n",
       "7      1  \n",
       "8      0  \n",
       "9      1  "
      ]
     },
     "execution_count": 4,
     "metadata": {},
     "output_type": "execute_result"
    }
   ],
   "source": [
    "users_data.head(10)"
   ]
  },
  {
   "cell_type": "code",
   "execution_count": 5,
   "metadata": {},
   "outputs": [
    {
     "data": {
      "text/plain": [
       "user_id      int64\n",
       "order_id     int64\n",
       "action      object\n",
       "time        object\n",
       "date        object\n",
       "group        int64\n",
       "dtype: object"
      ]
     },
     "execution_count": 5,
     "metadata": {},
     "output_type": "execute_result"
    }
   ],
   "source": [
    "users_data.dtypes"
   ]
  },
  {
   "cell_type": "code",
   "execution_count": 6,
   "metadata": {},
   "outputs": [],
   "source": [
    "# приводим колонки с датой к типу даты\n",
    "users_data[['time', 'date']] = users_data[['time', 'date']].apply(lambda x: pd.to_datetime(x))"
   ]
  },
  {
   "cell_type": "code",
   "execution_count": 7,
   "metadata": {},
   "outputs": [
    {
     "data": {
      "text/plain": [
       "user_id     0\n",
       "order_id    0\n",
       "action      0\n",
       "time        0\n",
       "date        0\n",
       "group       0\n",
       "dtype: int64"
      ]
     },
     "execution_count": 7,
     "metadata": {},
     "output_type": "execute_result"
    }
   ],
   "source": [
    "# смотрим, есть ли незаполненные ячейки\n",
    "users_data.isna().sum()"
   ]
  },
  {
   "cell_type": "code",
   "execution_count": 8,
   "metadata": {},
   "outputs": [
    {
     "data": {
      "text/plain": [
       "array(['create_order', 'cancel_order'], dtype=object)"
      ]
     },
     "execution_count": 8,
     "metadata": {},
     "output_type": "execute_result"
    }
   ],
   "source": [
    "# смотрим, какие есть статусы\n",
    "users_data.action.unique()"
   ]
  },
  {
   "cell_type": "code",
   "execution_count": 9,
   "metadata": {},
   "outputs": [
    {
     "data": {
      "text/plain": [
       "214"
      ]
     },
     "execution_count": 9,
     "metadata": {},
     "output_type": "execute_result"
    }
   ],
   "source": [
    "# проверим, может ли один и тот же заказ значиться дважды с разными статусами\n",
    "canceled_orders = users_data.query('action == \"cancel_order\"').order_id.to_list()\n",
    "users_data.query('(order_id.isin(@canceled_orders)) and (action == \"create_order\")').order_id.nunique()"
   ]
  },
  {
   "cell_type": "code",
   "execution_count": 10,
   "metadata": {},
   "outputs": [
    {
     "data": {
      "text/plain": [
       "214"
      ]
     },
     "execution_count": 10,
     "metadata": {},
     "output_type": "execute_result"
    }
   ],
   "source": [
    "len(canceled_orders)"
   ]
  },
  {
   "cell_type": "markdown",
   "metadata": {},
   "source": [
    "!!! Получается, что один и тот же заказ встречается с разными статусами"
   ]
  },
  {
   "cell_type": "code",
   "execution_count": 11,
   "metadata": {},
   "outputs": [
    {
     "data": {
      "text/plain": [
       "1    2646\n",
       "0    1691\n",
       "Name: group, dtype: int64"
      ]
     },
     "execution_count": 11,
     "metadata": {},
     "output_type": "execute_result"
    }
   ],
   "source": [
    "# оценивае количество заказов в каждой группе\n",
    "users_data.group.value_counts()"
   ]
  },
  {
   "cell_type": "markdown",
   "metadata": {},
   "source": [
    "## Заказы"
   ]
  },
  {
   "cell_type": "code",
   "execution_count": 12,
   "metadata": {},
   "outputs": [
    {
     "data": {
      "text/html": [
       "<div>\n",
       "<style scoped>\n",
       "    .dataframe tbody tr th:only-of-type {\n",
       "        vertical-align: middle;\n",
       "    }\n",
       "\n",
       "    .dataframe tbody tr th {\n",
       "        vertical-align: top;\n",
       "    }\n",
       "\n",
       "    .dataframe thead th {\n",
       "        text-align: right;\n",
       "    }\n",
       "</style>\n",
       "<table border=\"1\" class=\"dataframe\">\n",
       "  <thead>\n",
       "    <tr style=\"text-align: right;\">\n",
       "      <th></th>\n",
       "      <th>order_id</th>\n",
       "      <th>creation_time</th>\n",
       "      <th>product_ids</th>\n",
       "    </tr>\n",
       "  </thead>\n",
       "  <tbody>\n",
       "    <tr>\n",
       "      <th>0</th>\n",
       "      <td>1255</td>\n",
       "      <td>2022-08-26 00:00:19.000000</td>\n",
       "      <td>{75, 22, 53, 84}</td>\n",
       "    </tr>\n",
       "    <tr>\n",
       "      <th>1</th>\n",
       "      <td>1256</td>\n",
       "      <td>2022-08-26 00:02:21.000000</td>\n",
       "      <td>{56, 76, 39}</td>\n",
       "    </tr>\n",
       "    <tr>\n",
       "      <th>2</th>\n",
       "      <td>1257</td>\n",
       "      <td>2022-08-26 00:02:27.000000</td>\n",
       "      <td>{76, 34, 41, 38}</td>\n",
       "    </tr>\n",
       "    <tr>\n",
       "      <th>3</th>\n",
       "      <td>1258</td>\n",
       "      <td>2022-08-26 00:02:56.000000</td>\n",
       "      <td>{74, 6}</td>\n",
       "    </tr>\n",
       "    <tr>\n",
       "      <th>4</th>\n",
       "      <td>1259</td>\n",
       "      <td>2022-08-26 00:03:37.000000</td>\n",
       "      <td>{20, 45, 67, 26}</td>\n",
       "    </tr>\n",
       "  </tbody>\n",
       "</table>\n",
       "</div>"
      ],
      "text/plain": [
       "   order_id               creation_time       product_ids\n",
       "0      1255  2022-08-26 00:00:19.000000  {75, 22, 53, 84}\n",
       "1      1256  2022-08-26 00:02:21.000000      {56, 76, 39}\n",
       "2      1257  2022-08-26 00:02:27.000000  {76, 34, 41, 38}\n",
       "3      1258  2022-08-26 00:02:56.000000           {74, 6}\n",
       "4      1259  2022-08-26 00:03:37.000000  {20, 45, 67, 26}"
      ]
     },
     "execution_count": 12,
     "metadata": {},
     "output_type": "execute_result"
    }
   ],
   "source": [
    "orders.head()"
   ]
  },
  {
   "cell_type": "code",
   "execution_count": 13,
   "metadata": {},
   "outputs": [
    {
     "data": {
      "text/plain": [
       "order_id          int64\n",
       "creation_time    object\n",
       "product_ids      object\n",
       "dtype: object"
      ]
     },
     "execution_count": 13,
     "metadata": {},
     "output_type": "execute_result"
    }
   ],
   "source": [
    "orders.dtypes"
   ]
  },
  {
   "cell_type": "code",
   "execution_count": 14,
   "metadata": {},
   "outputs": [],
   "source": [
    "# приводим дату к типу даты\n",
    "orders['creation_time'] = pd.to_datetime(orders.creation_time)"
   ]
  },
  {
   "cell_type": "code",
   "execution_count": 15,
   "metadata": {},
   "outputs": [
    {
     "data": {
      "text/plain": [
       "Timestamp('2022-08-26 00:00:19')"
      ]
     },
     "execution_count": 15,
     "metadata": {},
     "output_type": "execute_result"
    }
   ],
   "source": [
    "# смотрим, за какой период у нас есть наблюдения\n",
    "orders.creation_time.min()"
   ]
  },
  {
   "cell_type": "code",
   "execution_count": 16,
   "metadata": {},
   "outputs": [
    {
     "data": {
      "text/plain": [
       "Timestamp('2022-09-08 23:41:24')"
      ]
     },
     "execution_count": 16,
     "metadata": {},
     "output_type": "execute_result"
    }
   ],
   "source": [
    "orders.creation_time.max()"
   ]
  },
  {
   "cell_type": "code",
   "execution_count": 17,
   "metadata": {},
   "outputs": [
    {
     "data": {
      "text/plain": [
       "order_id         0\n",
       "creation_time    0\n",
       "product_ids      0\n",
       "dtype: int64"
      ]
     },
     "execution_count": 17,
     "metadata": {},
     "output_type": "execute_result"
    }
   ],
   "source": [
    "# смотрим, есть ли незаполненные ячейки\n",
    "orders.isna().sum()"
   ]
  },
  {
   "cell_type": "markdown",
   "metadata": {},
   "source": [
    "## Продукты"
   ]
  },
  {
   "cell_type": "code",
   "execution_count": 18,
   "metadata": {},
   "outputs": [
    {
     "data": {
      "text/html": [
       "<div>\n",
       "<style scoped>\n",
       "    .dataframe tbody tr th:only-of-type {\n",
       "        vertical-align: middle;\n",
       "    }\n",
       "\n",
       "    .dataframe tbody tr th {\n",
       "        vertical-align: top;\n",
       "    }\n",
       "\n",
       "    .dataframe thead th {\n",
       "        text-align: right;\n",
       "    }\n",
       "</style>\n",
       "<table border=\"1\" class=\"dataframe\">\n",
       "  <thead>\n",
       "    <tr style=\"text-align: right;\">\n",
       "      <th></th>\n",
       "      <th>product_id</th>\n",
       "      <th>name</th>\n",
       "      <th>price</th>\n",
       "    </tr>\n",
       "  </thead>\n",
       "  <tbody>\n",
       "    <tr>\n",
       "      <th>0</th>\n",
       "      <td>1</td>\n",
       "      <td>сахар</td>\n",
       "      <td>150.0</td>\n",
       "    </tr>\n",
       "    <tr>\n",
       "      <th>1</th>\n",
       "      <td>2</td>\n",
       "      <td>чай зеленый в пакетиках</td>\n",
       "      <td>50.0</td>\n",
       "    </tr>\n",
       "    <tr>\n",
       "      <th>2</th>\n",
       "      <td>3</td>\n",
       "      <td>вода негазированная</td>\n",
       "      <td>80.4</td>\n",
       "    </tr>\n",
       "    <tr>\n",
       "      <th>3</th>\n",
       "      <td>4</td>\n",
       "      <td>леденцы</td>\n",
       "      <td>45.5</td>\n",
       "    </tr>\n",
       "    <tr>\n",
       "      <th>4</th>\n",
       "      <td>5</td>\n",
       "      <td>кофе 3 в 1</td>\n",
       "      <td>15.0</td>\n",
       "    </tr>\n",
       "  </tbody>\n",
       "</table>\n",
       "</div>"
      ],
      "text/plain": [
       "   product_id                     name  price\n",
       "0           1                    сахар  150.0\n",
       "1           2  чай зеленый в пакетиках   50.0\n",
       "2           3      вода негазированная   80.4\n",
       "3           4                  леденцы   45.5\n",
       "4           5               кофе 3 в 1   15.0"
      ]
     },
     "execution_count": 18,
     "metadata": {},
     "output_type": "execute_result"
    }
   ],
   "source": [
    "products.head()"
   ]
  },
  {
   "cell_type": "markdown",
   "metadata": {},
   "source": [
    "# Рассчитаем стоимость каждого заказа"
   ]
  },
  {
   "cell_type": "markdown",
   "metadata": {},
   "source": [
    "Для начала создадим новый датафрейм и преобразуем данные в столбце product_ids таблицы orders в список"
   ]
  },
  {
   "cell_type": "code",
   "execution_count": 19,
   "metadata": {},
   "outputs": [
    {
     "data": {
      "text/html": [
       "<div>\n",
       "<style scoped>\n",
       "    .dataframe tbody tr th:only-of-type {\n",
       "        vertical-align: middle;\n",
       "    }\n",
       "\n",
       "    .dataframe tbody tr th {\n",
       "        vertical-align: top;\n",
       "    }\n",
       "\n",
       "    .dataframe thead th {\n",
       "        text-align: right;\n",
       "    }\n",
       "</style>\n",
       "<table border=\"1\" class=\"dataframe\">\n",
       "  <thead>\n",
       "    <tr style=\"text-align: right;\">\n",
       "      <th></th>\n",
       "      <th>order_id</th>\n",
       "      <th>creation_time</th>\n",
       "      <th>product_ids</th>\n",
       "    </tr>\n",
       "  </thead>\n",
       "  <tbody>\n",
       "    <tr>\n",
       "      <th>0</th>\n",
       "      <td>1255</td>\n",
       "      <td>2022-08-26 00:00:19</td>\n",
       "      <td>{75, 22, 53, 84}</td>\n",
       "    </tr>\n",
       "    <tr>\n",
       "      <th>1</th>\n",
       "      <td>1256</td>\n",
       "      <td>2022-08-26 00:02:21</td>\n",
       "      <td>{56, 76, 39}</td>\n",
       "    </tr>\n",
       "    <tr>\n",
       "      <th>2</th>\n",
       "      <td>1257</td>\n",
       "      <td>2022-08-26 00:02:27</td>\n",
       "      <td>{76, 34, 41, 38}</td>\n",
       "    </tr>\n",
       "    <tr>\n",
       "      <th>3</th>\n",
       "      <td>1258</td>\n",
       "      <td>2022-08-26 00:02:56</td>\n",
       "      <td>{74, 6}</td>\n",
       "    </tr>\n",
       "    <tr>\n",
       "      <th>4</th>\n",
       "      <td>1259</td>\n",
       "      <td>2022-08-26 00:03:37</td>\n",
       "      <td>{20, 45, 67, 26}</td>\n",
       "    </tr>\n",
       "    <tr>\n",
       "      <th>...</th>\n",
       "      <td>...</td>\n",
       "      <td>...</td>\n",
       "      <td>...</td>\n",
       "    </tr>\n",
       "    <tr>\n",
       "      <th>4118</th>\n",
       "      <td>59422</td>\n",
       "      <td>2022-09-08 23:13:03</td>\n",
       "      <td>{84, 8, 24}</td>\n",
       "    </tr>\n",
       "    <tr>\n",
       "      <th>4119</th>\n",
       "      <td>59439</td>\n",
       "      <td>2022-09-08 23:18:05</td>\n",
       "      <td>{9, 25, 75, 30, 6}</td>\n",
       "    </tr>\n",
       "    <tr>\n",
       "      <th>4120</th>\n",
       "      <td>59464</td>\n",
       "      <td>2022-09-08 23:22:27</td>\n",
       "      <td>{60, 41, 46}</td>\n",
       "    </tr>\n",
       "    <tr>\n",
       "      <th>4121</th>\n",
       "      <td>59487</td>\n",
       "      <td>2022-09-08 23:29:06</td>\n",
       "      <td>{9, 62, 77}</td>\n",
       "    </tr>\n",
       "    <tr>\n",
       "      <th>4122</th>\n",
       "      <td>59533</td>\n",
       "      <td>2022-09-08 23:41:24</td>\n",
       "      <td>{17, 85}</td>\n",
       "    </tr>\n",
       "  </tbody>\n",
       "</table>\n",
       "<p>4123 rows × 3 columns</p>\n",
       "</div>"
      ],
      "text/plain": [
       "      order_id       creation_time         product_ids\n",
       "0         1255 2022-08-26 00:00:19    {75, 22, 53, 84}\n",
       "1         1256 2022-08-26 00:02:21        {56, 76, 39}\n",
       "2         1257 2022-08-26 00:02:27    {76, 34, 41, 38}\n",
       "3         1258 2022-08-26 00:02:56             {74, 6}\n",
       "4         1259 2022-08-26 00:03:37    {20, 45, 67, 26}\n",
       "...        ...                 ...                 ...\n",
       "4118     59422 2022-09-08 23:13:03         {84, 8, 24}\n",
       "4119     59439 2022-09-08 23:18:05  {9, 25, 75, 30, 6}\n",
       "4120     59464 2022-09-08 23:22:27        {60, 41, 46}\n",
       "4121     59487 2022-09-08 23:29:06         {9, 62, 77}\n",
       "4122     59533 2022-09-08 23:41:24            {17, 85}\n",
       "\n",
       "[4123 rows x 3 columns]"
      ]
     },
     "execution_count": 19,
     "metadata": {},
     "output_type": "execute_result"
    }
   ],
   "source": [
    "orders"
   ]
  },
  {
   "cell_type": "code",
   "execution_count": 20,
   "metadata": {},
   "outputs": [],
   "source": [
    "df = orders\n",
    "# убираем фигурные скобки, преобразуем product_ids в список\n",
    "df['product_ids'] = df['product_ids'].apply(lambda x: x.strip('{}').split(','))"
   ]
  },
  {
   "cell_type": "code",
   "execution_count": 21,
   "metadata": {},
   "outputs": [
    {
     "data": {
      "text/html": [
       "<div>\n",
       "<style scoped>\n",
       "    .dataframe tbody tr th:only-of-type {\n",
       "        vertical-align: middle;\n",
       "    }\n",
       "\n",
       "    .dataframe tbody tr th {\n",
       "        vertical-align: top;\n",
       "    }\n",
       "\n",
       "    .dataframe thead th {\n",
       "        text-align: right;\n",
       "    }\n",
       "</style>\n",
       "<table border=\"1\" class=\"dataframe\">\n",
       "  <thead>\n",
       "    <tr style=\"text-align: right;\">\n",
       "      <th></th>\n",
       "      <th>order_id</th>\n",
       "      <th>creation_time</th>\n",
       "      <th>product_id</th>\n",
       "    </tr>\n",
       "  </thead>\n",
       "  <tbody>\n",
       "    <tr>\n",
       "      <th>0</th>\n",
       "      <td>1255</td>\n",
       "      <td>2022-08-26 00:00:19</td>\n",
       "      <td>75</td>\n",
       "    </tr>\n",
       "    <tr>\n",
       "      <th>0</th>\n",
       "      <td>1255</td>\n",
       "      <td>2022-08-26 00:00:19</td>\n",
       "      <td>22</td>\n",
       "    </tr>\n",
       "    <tr>\n",
       "      <th>0</th>\n",
       "      <td>1255</td>\n",
       "      <td>2022-08-26 00:00:19</td>\n",
       "      <td>53</td>\n",
       "    </tr>\n",
       "    <tr>\n",
       "      <th>0</th>\n",
       "      <td>1255</td>\n",
       "      <td>2022-08-26 00:00:19</td>\n",
       "      <td>84</td>\n",
       "    </tr>\n",
       "    <tr>\n",
       "      <th>1</th>\n",
       "      <td>1256</td>\n",
       "      <td>2022-08-26 00:02:21</td>\n",
       "      <td>56</td>\n",
       "    </tr>\n",
       "  </tbody>\n",
       "</table>\n",
       "</div>"
      ],
      "text/plain": [
       "   order_id       creation_time product_id\n",
       "0      1255 2022-08-26 00:00:19         75\n",
       "0      1255 2022-08-26 00:00:19         22\n",
       "0      1255 2022-08-26 00:00:19         53\n",
       "0      1255 2022-08-26 00:00:19         84\n",
       "1      1256 2022-08-26 00:02:21         56"
      ]
     },
     "execution_count": 21,
     "metadata": {},
     "output_type": "execute_result"
    }
   ],
   "source": [
    "# раскроем список из колонки продуктов и переименуем эту колонку\n",
    "df = df.explode(column = 'product_ids').rename(columns = {'product_ids': 'product_id'})\n",
    "df.head()"
   ]
  },
  {
   "cell_type": "code",
   "execution_count": 22,
   "metadata": {},
   "outputs": [],
   "source": [
    "df['product_id'] = df.product_id.astype('int')"
   ]
  },
  {
   "cell_type": "code",
   "execution_count": 23,
   "metadata": {},
   "outputs": [
    {
     "data": {
      "text/plain": [
       "order_id         0\n",
       "creation_time    0\n",
       "product_id       0\n",
       "price            0\n",
       "dtype: int64"
      ]
     },
     "execution_count": 23,
     "metadata": {},
     "output_type": "execute_result"
    }
   ],
   "source": [
    "# добавим цену из таблицы products\n",
    "df = df.merge(products[['product_id', 'price']], how = 'left', on = 'product_id')\n",
    "# проыерим, всем ли продуктам проставилась цена\n",
    "df.isna().sum()"
   ]
  },
  {
   "cell_type": "code",
   "execution_count": 24,
   "metadata": {
    "scrolled": true
   },
   "outputs": [
    {
     "data": {
      "text/html": [
       "<div>\n",
       "<style scoped>\n",
       "    .dataframe tbody tr th:only-of-type {\n",
       "        vertical-align: middle;\n",
       "    }\n",
       "\n",
       "    .dataframe tbody tr th {\n",
       "        vertical-align: top;\n",
       "    }\n",
       "\n",
       "    .dataframe thead th {\n",
       "        text-align: right;\n",
       "    }\n",
       "</style>\n",
       "<table border=\"1\" class=\"dataframe\">\n",
       "  <thead>\n",
       "    <tr style=\"text-align: right;\">\n",
       "      <th></th>\n",
       "      <th>order_price</th>\n",
       "    </tr>\n",
       "    <tr>\n",
       "      <th>order_id</th>\n",
       "      <th></th>\n",
       "    </tr>\n",
       "  </thead>\n",
       "  <tbody>\n",
       "    <tr>\n",
       "      <th>1255</th>\n",
       "      <td>408.7</td>\n",
       "    </tr>\n",
       "    <tr>\n",
       "      <th>1256</th>\n",
       "      <td>250.5</td>\n",
       "    </tr>\n",
       "    <tr>\n",
       "      <th>1257</th>\n",
       "      <td>310.2</td>\n",
       "    </tr>\n",
       "    <tr>\n",
       "      <th>1258</th>\n",
       "      <td>85.0</td>\n",
       "    </tr>\n",
       "    <tr>\n",
       "      <th>1259</th>\n",
       "      <td>228.0</td>\n",
       "    </tr>\n",
       "    <tr>\n",
       "      <th>...</th>\n",
       "      <td>...</td>\n",
       "    </tr>\n",
       "    <tr>\n",
       "      <th>59422</th>\n",
       "      <td>241.2</td>\n",
       "    </tr>\n",
       "    <tr>\n",
       "      <th>59439</th>\n",
       "      <td>518.5</td>\n",
       "    </tr>\n",
       "    <tr>\n",
       "      <th>59464</th>\n",
       "      <td>185.9</td>\n",
       "    </tr>\n",
       "    <tr>\n",
       "      <th>59487</th>\n",
       "      <td>501.9</td>\n",
       "    </tr>\n",
       "    <tr>\n",
       "      <th>59533</th>\n",
       "      <td>390.3</td>\n",
       "    </tr>\n",
       "  </tbody>\n",
       "</table>\n",
       "<p>4123 rows × 1 columns</p>\n",
       "</div>"
      ],
      "text/plain": [
       "          order_price\n",
       "order_id             \n",
       "1255            408.7\n",
       "1256            250.5\n",
       "1257            310.2\n",
       "1258             85.0\n",
       "1259            228.0\n",
       "...               ...\n",
       "59422           241.2\n",
       "59439           518.5\n",
       "59464           185.9\n",
       "59487           501.9\n",
       "59533           390.3\n",
       "\n",
       "[4123 rows x 1 columns]"
      ]
     },
     "execution_count": 24,
     "metadata": {},
     "output_type": "execute_result"
    }
   ],
   "source": [
    "# рассчитаем стоимость каждого заказа\n",
    "order_prices = df.groupby('order_id').agg(order_price = ('price', 'sum'))\n",
    "order_prices"
   ]
  },
  {
   "cell_type": "markdown",
   "metadata": {},
   "source": [
    "# Собираем таблицу, которую будем использовать для последующего анализа"
   ]
  },
  {
   "cell_type": "markdown",
   "metadata": {},
   "source": [
    "Формируем итоговый датасет, в котором для каждого пользователя три показателя: количество покупок и общая сумма покупок за период наблюдения и средний чек. Строго говоря, показатель средний чек не обязательный, так как полностью определяется первыми двумя показателями, но оставим его для удобства восприятия."
   ]
  },
  {
   "cell_type": "code",
   "execution_count": 25,
   "metadata": {},
   "outputs": [
    {
     "data": {
      "text/html": [
       "<div>\n",
       "<style scoped>\n",
       "    .dataframe tbody tr th:only-of-type {\n",
       "        vertical-align: middle;\n",
       "    }\n",
       "\n",
       "    .dataframe tbody tr th {\n",
       "        vertical-align: top;\n",
       "    }\n",
       "\n",
       "    .dataframe thead th {\n",
       "        text-align: right;\n",
       "    }\n",
       "</style>\n",
       "<table border=\"1\" class=\"dataframe\">\n",
       "  <thead>\n",
       "    <tr style=\"text-align: right;\">\n",
       "      <th></th>\n",
       "      <th>user_id</th>\n",
       "      <th>order_id</th>\n",
       "      <th>action</th>\n",
       "      <th>time</th>\n",
       "      <th>date</th>\n",
       "      <th>group</th>\n",
       "      <th>order_price</th>\n",
       "    </tr>\n",
       "  </thead>\n",
       "  <tbody>\n",
       "    <tr>\n",
       "      <th>0</th>\n",
       "      <td>964</td>\n",
       "      <td>1255</td>\n",
       "      <td>create_order</td>\n",
       "      <td>2022-08-26 00:00:19.000000</td>\n",
       "      <td>2022-08-26</td>\n",
       "      <td>0</td>\n",
       "      <td>408.7</td>\n",
       "    </tr>\n",
       "    <tr>\n",
       "      <th>1</th>\n",
       "      <td>965</td>\n",
       "      <td>1256</td>\n",
       "      <td>create_order</td>\n",
       "      <td>2022-08-26 00:02:21.000000</td>\n",
       "      <td>2022-08-26</td>\n",
       "      <td>1</td>\n",
       "      <td>250.5</td>\n",
       "    </tr>\n",
       "    <tr>\n",
       "      <th>2</th>\n",
       "      <td>964</td>\n",
       "      <td>1257</td>\n",
       "      <td>create_order</td>\n",
       "      <td>2022-08-26 00:02:27.000000</td>\n",
       "      <td>2022-08-26</td>\n",
       "      <td>0</td>\n",
       "      <td>310.2</td>\n",
       "    </tr>\n",
       "    <tr>\n",
       "      <th>3</th>\n",
       "      <td>966</td>\n",
       "      <td>1258</td>\n",
       "      <td>create_order</td>\n",
       "      <td>2022-08-26 00:02:56.000000</td>\n",
       "      <td>2022-08-26</td>\n",
       "      <td>0</td>\n",
       "      <td>85.0</td>\n",
       "    </tr>\n",
       "    <tr>\n",
       "      <th>8</th>\n",
       "      <td>966</td>\n",
       "      <td>1258</td>\n",
       "      <td>cancel_order</td>\n",
       "      <td>2022-08-26 00:08:25.486419</td>\n",
       "      <td>2022-08-26</td>\n",
       "      <td>0</td>\n",
       "      <td>85.0</td>\n",
       "    </tr>\n",
       "    <tr>\n",
       "      <th>4</th>\n",
       "      <td>967</td>\n",
       "      <td>1259</td>\n",
       "      <td>create_order</td>\n",
       "      <td>2022-08-26 00:03:37.000000</td>\n",
       "      <td>2022-08-26</td>\n",
       "      <td>1</td>\n",
       "      <td>228.0</td>\n",
       "    </tr>\n",
       "    <tr>\n",
       "      <th>5</th>\n",
       "      <td>968</td>\n",
       "      <td>1261</td>\n",
       "      <td>create_order</td>\n",
       "      <td>2022-08-26 00:05:35.000000</td>\n",
       "      <td>2022-08-26</td>\n",
       "      <td>0</td>\n",
       "      <td>430.7</td>\n",
       "    </tr>\n",
       "    <tr>\n",
       "      <th>6</th>\n",
       "      <td>969</td>\n",
       "      <td>1262</td>\n",
       "      <td>create_order</td>\n",
       "      <td>2022-08-26 00:06:25.000000</td>\n",
       "      <td>2022-08-26</td>\n",
       "      <td>0</td>\n",
       "      <td>358.6</td>\n",
       "    </tr>\n",
       "    <tr>\n",
       "      <th>7</th>\n",
       "      <td>970</td>\n",
       "      <td>1263</td>\n",
       "      <td>create_order</td>\n",
       "      <td>2022-08-26 00:08:22.000000</td>\n",
       "      <td>2022-08-26</td>\n",
       "      <td>1</td>\n",
       "      <td>180.3</td>\n",
       "    </tr>\n",
       "    <tr>\n",
       "      <th>9</th>\n",
       "      <td>971</td>\n",
       "      <td>1264</td>\n",
       "      <td>create_order</td>\n",
       "      <td>2022-08-26 00:10:53.000000</td>\n",
       "      <td>2022-08-26</td>\n",
       "      <td>1</td>\n",
       "      <td>310.3</td>\n",
       "    </tr>\n",
       "    <tr>\n",
       "      <th>10</th>\n",
       "      <td>972</td>\n",
       "      <td>1265</td>\n",
       "      <td>create_order</td>\n",
       "      <td>2022-08-26 00:11:21.000000</td>\n",
       "      <td>2022-08-26</td>\n",
       "      <td>0</td>\n",
       "      <td>546.4</td>\n",
       "    </tr>\n",
       "    <tr>\n",
       "      <th>11</th>\n",
       "      <td>973</td>\n",
       "      <td>1266</td>\n",
       "      <td>create_order</td>\n",
       "      <td>2022-08-26 00:12:00.000000</td>\n",
       "      <td>2022-08-26</td>\n",
       "      <td>1</td>\n",
       "      <td>46.0</td>\n",
       "    </tr>\n",
       "    <tr>\n",
       "      <th>12</th>\n",
       "      <td>974</td>\n",
       "      <td>1267</td>\n",
       "      <td>create_order</td>\n",
       "      <td>2022-08-26 00:12:29.000000</td>\n",
       "      <td>2022-08-26</td>\n",
       "      <td>1</td>\n",
       "      <td>370.0</td>\n",
       "    </tr>\n",
       "    <tr>\n",
       "      <th>13</th>\n",
       "      <td>971</td>\n",
       "      <td>1268</td>\n",
       "      <td>create_order</td>\n",
       "      <td>2022-08-26 00:12:41.000000</td>\n",
       "      <td>2022-08-26</td>\n",
       "      <td>1</td>\n",
       "      <td>320.4</td>\n",
       "    </tr>\n",
       "    <tr>\n",
       "      <th>14</th>\n",
       "      <td>975</td>\n",
       "      <td>1269</td>\n",
       "      <td>create_order</td>\n",
       "      <td>2022-08-26 00:12:58.000000</td>\n",
       "      <td>2022-08-26</td>\n",
       "      <td>0</td>\n",
       "      <td>1005.3</td>\n",
       "    </tr>\n",
       "    <tr>\n",
       "      <th>15</th>\n",
       "      <td>976</td>\n",
       "      <td>1270</td>\n",
       "      <td>create_order</td>\n",
       "      <td>2022-08-26 00:16:29.000000</td>\n",
       "      <td>2022-08-26</td>\n",
       "      <td>0</td>\n",
       "      <td>255.4</td>\n",
       "    </tr>\n",
       "    <tr>\n",
       "      <th>16</th>\n",
       "      <td>977</td>\n",
       "      <td>1271</td>\n",
       "      <td>create_order</td>\n",
       "      <td>2022-08-26 00:16:57.000000</td>\n",
       "      <td>2022-08-26</td>\n",
       "      <td>1</td>\n",
       "      <td>328.0</td>\n",
       "    </tr>\n",
       "    <tr>\n",
       "      <th>17</th>\n",
       "      <td>978</td>\n",
       "      <td>1272</td>\n",
       "      <td>create_order</td>\n",
       "      <td>2022-08-26 00:18:28.000000</td>\n",
       "      <td>2022-08-26</td>\n",
       "      <td>1</td>\n",
       "      <td>941.4</td>\n",
       "    </tr>\n",
       "    <tr>\n",
       "      <th>18</th>\n",
       "      <td>979</td>\n",
       "      <td>1273</td>\n",
       "      <td>create_order</td>\n",
       "      <td>2022-08-26 00:18:54.000000</td>\n",
       "      <td>2022-08-26</td>\n",
       "      <td>0</td>\n",
       "      <td>341.7</td>\n",
       "    </tr>\n",
       "    <tr>\n",
       "      <th>19</th>\n",
       "      <td>978</td>\n",
       "      <td>1274</td>\n",
       "      <td>create_order</td>\n",
       "      <td>2022-08-26 00:19:45.000000</td>\n",
       "      <td>2022-08-26</td>\n",
       "      <td>1</td>\n",
       "      <td>518.4</td>\n",
       "    </tr>\n",
       "  </tbody>\n",
       "</table>\n",
       "</div>"
      ],
      "text/plain": [
       "    user_id  order_id        action                       time       date  \\\n",
       "0       964      1255  create_order 2022-08-26 00:00:19.000000 2022-08-26   \n",
       "1       965      1256  create_order 2022-08-26 00:02:21.000000 2022-08-26   \n",
       "2       964      1257  create_order 2022-08-26 00:02:27.000000 2022-08-26   \n",
       "3       966      1258  create_order 2022-08-26 00:02:56.000000 2022-08-26   \n",
       "8       966      1258  cancel_order 2022-08-26 00:08:25.486419 2022-08-26   \n",
       "4       967      1259  create_order 2022-08-26 00:03:37.000000 2022-08-26   \n",
       "5       968      1261  create_order 2022-08-26 00:05:35.000000 2022-08-26   \n",
       "6       969      1262  create_order 2022-08-26 00:06:25.000000 2022-08-26   \n",
       "7       970      1263  create_order 2022-08-26 00:08:22.000000 2022-08-26   \n",
       "9       971      1264  create_order 2022-08-26 00:10:53.000000 2022-08-26   \n",
       "10      972      1265  create_order 2022-08-26 00:11:21.000000 2022-08-26   \n",
       "11      973      1266  create_order 2022-08-26 00:12:00.000000 2022-08-26   \n",
       "12      974      1267  create_order 2022-08-26 00:12:29.000000 2022-08-26   \n",
       "13      971      1268  create_order 2022-08-26 00:12:41.000000 2022-08-26   \n",
       "14      975      1269  create_order 2022-08-26 00:12:58.000000 2022-08-26   \n",
       "15      976      1270  create_order 2022-08-26 00:16:29.000000 2022-08-26   \n",
       "16      977      1271  create_order 2022-08-26 00:16:57.000000 2022-08-26   \n",
       "17      978      1272  create_order 2022-08-26 00:18:28.000000 2022-08-26   \n",
       "18      979      1273  create_order 2022-08-26 00:18:54.000000 2022-08-26   \n",
       "19      978      1274  create_order 2022-08-26 00:19:45.000000 2022-08-26   \n",
       "\n",
       "    group  order_price  \n",
       "0       0        408.7  \n",
       "1       1        250.5  \n",
       "2       0        310.2  \n",
       "3       0         85.0  \n",
       "8       0         85.0  \n",
       "4       1        228.0  \n",
       "5       0        430.7  \n",
       "6       0        358.6  \n",
       "7       1        180.3  \n",
       "9       1        310.3  \n",
       "10      0        546.4  \n",
       "11      1         46.0  \n",
       "12      1        370.0  \n",
       "13      1        320.4  \n",
       "14      0       1005.3  \n",
       "15      0        255.4  \n",
       "16      1        328.0  \n",
       "17      1        941.4  \n",
       "18      0        341.7  \n",
       "19      1        518.4  "
      ]
     },
     "execution_count": 25,
     "metadata": {},
     "output_type": "execute_result"
    }
   ],
   "source": [
    "sf_df = users_data.merge(order_prices, how = 'left', on = 'order_id')\n",
    "sf_df.sort_values('order_id').head(20)"
   ]
  },
  {
   "cell_type": "code",
   "execution_count": 26,
   "metadata": {},
   "outputs": [
    {
     "data": {
      "text/plain": [
       "user_id        0\n",
       "order_id       0\n",
       "action         0\n",
       "time           0\n",
       "date           0\n",
       "group          0\n",
       "order_price    0\n",
       "dtype: int64"
      ]
     },
     "execution_count": 26,
     "metadata": {},
     "output_type": "execute_result"
    }
   ],
   "source": [
    "# Проверяем, есть ли пропуски\n",
    "sf_df.isna().sum()"
   ]
  },
  {
   "cell_type": "code",
   "execution_count": 27,
   "metadata": {},
   "outputs": [
    {
     "data": {
      "text/plain": [
       "428"
      ]
     },
     "execution_count": 27,
     "metadata": {},
     "output_type": "execute_result"
    }
   ],
   "source": [
    "# анализируем отмененные заказы \n",
    "sf_df.shape[0] - sf_df.query('order_id != @canceled_orders').shape[0]"
   ]
  },
  {
   "cell_type": "markdown",
   "metadata": {},
   "source": [
    "Выше мы посчитали, что у нас было 214 отмененных заказа, но поскольку каждый такой заказ значится дважды (со статусами 'canceled_order' и 'create_order'), то мы получили цифру 428. Из дальнейшего анализа мы эти отмененные заказы исключим"
   ]
  },
  {
   "cell_type": "code",
   "execution_count": 28,
   "metadata": {},
   "outputs": [],
   "source": [
    "# агрегируем количество заказов и сумму покупок\n",
    "f_df = sf_df.query('order_id != @canceled_orders')\\\n",
    "            .groupby('user_id', as_index = False)\\\n",
    "            .agg(num_orders = ('order_id', 'nunique'), \\\n",
    "                 total_bill = ('order_price', 'sum'), \\\n",
    "                 group = ('group', 'max'))\n",
    "\n",
    "# считаем средний чек для каждого пользователя\n",
    "f_df['avg_bill'] = (f_df.total_bill / f_df.num_orders).round(1)\n",
    "\n",
    "# для удобства заменим номер группы на ее текстовое название\n",
    "f_df['group'] = f_df.group.apply(lambda x: 'new' if x ==1 else 'old')"
   ]
  },
  {
   "cell_type": "markdown",
   "metadata": {},
   "source": [
    "Итоговый датасет выглядит следующим образом"
   ]
  },
  {
   "cell_type": "code",
   "execution_count": 29,
   "metadata": {},
   "outputs": [
    {
     "data": {
      "text/html": [
       "<div>\n",
       "<style scoped>\n",
       "    .dataframe tbody tr th:only-of-type {\n",
       "        vertical-align: middle;\n",
       "    }\n",
       "\n",
       "    .dataframe tbody tr th {\n",
       "        vertical-align: top;\n",
       "    }\n",
       "\n",
       "    .dataframe thead th {\n",
       "        text-align: right;\n",
       "    }\n",
       "</style>\n",
       "<table border=\"1\" class=\"dataframe\">\n",
       "  <thead>\n",
       "    <tr style=\"text-align: right;\">\n",
       "      <th></th>\n",
       "      <th>user_id</th>\n",
       "      <th>num_orders</th>\n",
       "      <th>total_bill</th>\n",
       "      <th>group</th>\n",
       "      <th>avg_bill</th>\n",
       "    </tr>\n",
       "  </thead>\n",
       "  <tbody>\n",
       "    <tr>\n",
       "      <th>0</th>\n",
       "      <td>964</td>\n",
       "      <td>2</td>\n",
       "      <td>718.9</td>\n",
       "      <td>old</td>\n",
       "      <td>359.5</td>\n",
       "    </tr>\n",
       "    <tr>\n",
       "      <th>1</th>\n",
       "      <td>965</td>\n",
       "      <td>9</td>\n",
       "      <td>4155.5</td>\n",
       "      <td>new</td>\n",
       "      <td>461.7</td>\n",
       "    </tr>\n",
       "    <tr>\n",
       "      <th>2</th>\n",
       "      <td>967</td>\n",
       "      <td>5</td>\n",
       "      <td>1137.4</td>\n",
       "      <td>new</td>\n",
       "      <td>227.5</td>\n",
       "    </tr>\n",
       "    <tr>\n",
       "      <th>3</th>\n",
       "      <td>968</td>\n",
       "      <td>3</td>\n",
       "      <td>1590.7</td>\n",
       "      <td>old</td>\n",
       "      <td>530.2</td>\n",
       "    </tr>\n",
       "    <tr>\n",
       "      <th>4</th>\n",
       "      <td>969</td>\n",
       "      <td>2</td>\n",
       "      <td>681.9</td>\n",
       "      <td>old</td>\n",
       "      <td>341.0</td>\n",
       "    </tr>\n",
       "  </tbody>\n",
       "</table>\n",
       "</div>"
      ],
      "text/plain": [
       "   user_id  num_orders  total_bill group  avg_bill\n",
       "0      964           2       718.9   old     359.5\n",
       "1      965           9      4155.5   new     461.7\n",
       "2      967           5      1137.4   new     227.5\n",
       "3      968           3      1590.7   old     530.2\n",
       "4      969           2       681.9   old     341.0"
      ]
     },
     "execution_count": 29,
     "metadata": {},
     "output_type": "execute_result"
    }
   ],
   "source": [
    "f_df.head()"
   ]
  },
  {
   "cell_type": "markdown",
   "metadata": {},
   "source": [
    "# Визуализируем данные"
   ]
  },
  {
   "cell_type": "code",
   "execution_count": 30,
   "metadata": {},
   "outputs": [
    {
     "data": {
      "image/png": "[encoded data removed]",
      "text/plain": [
       "<Figure size 1296x432 with 3 Axes>"
      ]
     },
     "metadata": {
      "needs_background": "light"
     },
     "output_type": "display_data"
    }
   ],
   "source": [
    "fig, axes = plt.subplots(1, 3, figsize = (18, 6))\n",
    "axes[0].set_title('Количество заказов')\n",
    "axes[1].set_title('Общая сумма покупок')\n",
    "axes[2].set_title('Средний чек')\n",
    "sns.boxplot(ax = axes[0], data = f_df, x = 'group', y = 'num_orders')\n",
    "sns.boxplot(ax = axes[1], data = f_df, x = 'group', y = 'total_bill')\n",
    "sns.boxplot(ax = axes[2], data = f_df, x = 'group', y = 'avg_bill')\n",
    "plt.show()"
   ]
  },
  {
   "cell_type": "markdown",
   "metadata": {},
   "source": [
    "# Выбираем метод статистического анализа"
   ]
  },
  {
   "cell_type": "markdown",
   "metadata": {},
   "source": [
    "Поскольку группы у нас две, выбираем между параметрическим t-тестом, непараметрическим критерием Манна-Уитней и бутстрепом"
   ]
  },
  {
   "cell_type": "code",
   "execution_count": 31,
   "metadata": {},
   "outputs": [],
   "source": [
    "# формируем группы\n",
    "num_orders_old = f_df.query('group == \"old\"').num_orders\n",
    "num_orders_new = f_df.query('group == \"new\"').num_orders\n",
    "total_bill_old = f_df.query('group == \"old\"').total_bill\n",
    "total_bill_new = f_df.query('group == \"new\"').total_bill\n",
    "avg_bill_old = f_df.query('group == \"old\"').avg_bill\n",
    "avg_bill_new = f_df.query('group == \"new\"').avg_bill\n",
    "groups = [num_orders_old, num_orders_new, total_bill_old, total_bill_new, avg_bill_old, avg_bill_new]"
   ]
  },
  {
   "cell_type": "code",
   "execution_count": 32,
   "metadata": {},
   "outputs": [],
   "source": [
    "groups_names = ['num_orders_old', 'num_orders_new', 'total_bill_old', 'total_bill_new', 'avg_bill_old', 'avg_bill_new']"
   ]
  },
  {
   "cell_type": "markdown",
   "metadata": {},
   "source": [
    "Проверим распределение данных"
   ]
  },
  {
   "cell_type": "code",
   "execution_count": 33,
   "metadata": {},
   "outputs": [
    {
     "data": {
      "image/png": "[encoded data removed]",
      "text/plain": [
       "<Figure size 360x360 with 1 Axes>"
      ]
     },
     "metadata": {
      "needs_background": "light"
     },
     "output_type": "display_data"
    },
    {
     "name": "stdout",
     "output_type": "stream",
     "text": [
      "Уровень значимости критерия Шапиро-Уилка для num_orders равен 4.7134366511752175e-23\n",
      "Распределение данных в группе num_orders отличается от нормального\n"
     ]
    },
    {
     "data": {
      "image/png": "[encoded data removed]",
      "text/plain": [
       "<Figure size 360x360 with 1 Axes>"
      ]
     },
     "metadata": {
      "needs_background": "light"
     },
     "output_type": "display_data"
    },
    {
     "name": "stdout",
     "output_type": "stream",
     "text": [
      "Уровень значимости критерия Шапиро-Уилка для num_orders равен 7.850973204881484e-10\n",
      "Распределение данных в группе num_orders отличается от нормального\n"
     ]
    },
    {
     "data": {
      "image/png": "[encoded data removed]",
      "text/plain": [
       "<Figure size 360x360 with 1 Axes>"
      ]
     },
     "metadata": {
      "needs_background": "light"
     },
     "output_type": "display_data"
    },
    {
     "name": "stdout",
     "output_type": "stream",
     "text": [
      "Уровень значимости критерия Шапиро-Уилка для total_bill равен 8.713836969217895e-19\n",
      "Распределение данных в группе total_bill отличается от нормального\n"
     ]
    },
    {
     "data": {
      "image/png": "[encoded data removed]",
      "text/plain": [
       "<Figure size 360x360 with 1 Axes>"
      ]
     },
     "metadata": {
      "needs_background": "light"
     },
     "output_type": "display_data"
    },
    {
     "name": "stdout",
     "output_type": "stream",
     "text": [
      "Уровень значимости критерия Шапиро-Уилка для total_bill равен 1.408598961916141e-07\n",
      "Распределение данных в группе total_bill отличается от нормального\n"
     ]
    },
    {
     "data": {
      "image/png": "[encoded data removed]",
      "text/plain": [
       "<Figure size 360x360 with 1 Axes>"
      ]
     },
     "metadata": {
      "needs_background": "light"
     },
     "output_type": "display_data"
    },
    {
     "name": "stdout",
     "output_type": "stream",
     "text": [
      "Уровень значимости критерия Шапиро-Уилка для avg_bill равен 2.5542160400626734e-11\n",
      "Распределение данных в группе avg_bill отличается от нормального\n"
     ]
    },
    {
     "data": {
      "image/png": "[encoded data removed]",
      "text/plain": [
       "<Figure size 360x360 with 1 Axes>"
      ]
     },
     "metadata": {
      "needs_background": "light"
     },
     "output_type": "display_data"
    },
    {
     "name": "stdout",
     "output_type": "stream",
     "text": [
      "Уровень значимости критерия Шапиро-Уилка для avg_bill равен 2.089729778109728e-10\n",
      "Распределение данных в группе avg_bill отличается от нормального\n"
     ]
    }
   ],
   "source": [
    "i = 0\n",
    "for gr in groups:\n",
    "    sns.displot(gr)\n",
    "    plt.title(groups_names[i])\n",
    "    plt.show()\n",
    "    sw = stats.shapiro(gr)[1]\n",
    "    print(f'Уровень значимости критерия Шапиро-Уилка для {gr.name} равен {sw}')\n",
    "    if sw < 0.05:\n",
    "        print(f'Распределение данных в группе {gr.name} отличается от нормального')\n",
    "    else:\n",
    "        print(f'Распределение данных в группе {gr.name} является нормальным')\n",
    "    i += 1"
   ]
  },
  {
   "cell_type": "markdown",
   "metadata": {},
   "source": [
    "ВЫВОД: распределения во всех исследуемых группах отличается от нормального, но в целом распределения выглядят не плохо и кажется что можно применять t -тест, который, строго говоря, не требует того, чтобы данные были распределены нормально, но требует достаточно больших выборок (чтобы работала ЦПТ) и отстутствия сильных выбросов в данных. Оба условия выполняются."
   ]
  },
  {
   "cell_type": "markdown",
   "metadata": {},
   "source": [
    "Для того, чтобы определиться с вариантом теста, проверим, равны ли дисперсии в сравниваемых группах"
   ]
  },
  {
   "cell_type": "markdown",
   "metadata": {},
   "source": [
    "Для количества заказов"
   ]
  },
  {
   "cell_type": "code",
   "execution_count": 239,
   "metadata": {},
   "outputs": [
    {
     "name": "stdout",
     "output_type": "stream",
     "text": [
      "Уровень значимости криерия Левена равен 3.654438888775981e-05\n",
      "Дисперсии НЕ равны\n"
     ]
    }
   ],
   "source": [
    "print(f'Уровень значимости криерия Левена равен {stats.levene(num_orders_old, num_orders_new)[1]}')\n",
    "if stats.levene(num_orders_old, num_orders_new)[1] < 0.05:\n",
    "      print('Дисперсии НЕ равны')\n",
    "else:\n",
    "      print('Дисперсии равны')"
   ]
  },
  {
   "cell_type": "markdown",
   "metadata": {},
   "source": [
    "Для общей суммы заказов"
   ]
  },
  {
   "cell_type": "code",
   "execution_count": 240,
   "metadata": {},
   "outputs": [
    {
     "name": "stdout",
     "output_type": "stream",
     "text": [
      "Уровень значимости криерия Левена равен 1.896012459520485e-05\n",
      "Дисперсии НЕ равны\n"
     ]
    }
   ],
   "source": [
    "print(f'Уровень значимости криерия Левена равен {stats.levene(total_bill_old, total_bill_new)[1]}')\n",
    "if stats.levene(total_bill_old, total_bill_new)[1] < 0.05:\n",
    "      print('Дисперсии НЕ равны')\n",
    "else:\n",
    "      print('Дисперсии равны')"
   ]
  },
  {
   "cell_type": "markdown",
   "metadata": {},
   "source": [
    "Для среднего чека"
   ]
  },
  {
   "cell_type": "code",
   "execution_count": 241,
   "metadata": {},
   "outputs": [
    {
     "name": "stdout",
     "output_type": "stream",
     "text": [
      "Уровень значимости криерия Левена равен 2.652857267040283e-07\n",
      "Дисперсии НЕ равны\n"
     ]
    }
   ],
   "source": [
    "print(f'Уровень значимости криерия Левена равен {stats.levene(avg_bill_old, avg_bill_new)[1]}')\n",
    "if stats.levene(avg_bill_old, avg_bill_new)[1] < 0.05:\n",
    "      print('Дисперсии НЕ равны')\n",
    "else:\n",
    "      print('Дисперсии равны')"
   ]
  },
  {
   "cell_type": "markdown",
   "metadata": {},
   "source": [
    "ВЫВОД: будем использовать двувыборочный t-критерий для НЕ равных дисперсий"
   ]
  },
  {
   "cell_type": "markdown",
   "metadata": {},
   "source": [
    "# Проводим t-тест"
   ]
  },
  {
   "cell_type": "markdown",
   "metadata": {},
   "source": [
    "Для количества заказов"
   ]
  },
  {
   "cell_type": "code",
   "execution_count": 242,
   "metadata": {},
   "outputs": [
    {
     "name": "stdout",
     "output_type": "stream",
     "text": [
      "Уровень значимости t-критерия равен 1.2374101233656574e-40\n",
      "Обнаружены достоверные различия\n"
     ]
    }
   ],
   "source": [
    "tt_num_orders = stats.ttest_ind(num_orders_old, num_orders_new, equal_var=False)\n",
    "print(f'Уровень значимости t-критерия равен {tt_num_orders[1]}')\n",
    "if tt_num_orders[1] < 0.05:\n",
    "      print('Обнаружены достоверные различия')\n",
    "else:\n",
    "      print('Достоверные различия НЕ обнаружены')"
   ]
  },
  {
   "cell_type": "markdown",
   "metadata": {},
   "source": [
    "Для общей суммы заказоа"
   ]
  },
  {
   "cell_type": "code",
   "execution_count": 243,
   "metadata": {},
   "outputs": [
    {
     "name": "stdout",
     "output_type": "stream",
     "text": [
      "Уровень значимости t-критерия равен 1.572166429481266e-27\n",
      "Обнаружены достоверные различия\n"
     ]
    }
   ],
   "source": [
    "tt_total_bill = stats.ttest_ind(total_bill_old, total_bill_new, equal_var=False)\n",
    "print(f'Уровень значимости t-критерия равен {tt_total_bill[1]}')\n",
    "if tt_total_bill[1] < 0.05:\n",
    "      print('Обнаружены достоверные различия')\n",
    "else:\n",
    "      print('Достоверные различия НЕ обнаружены')"
   ]
  },
  {
   "cell_type": "code",
   "execution_count": 244,
   "metadata": {},
   "outputs": [
    {
     "name": "stdout",
     "output_type": "stream",
     "text": [
      "Уровень значимости t-критерия равен 0.1226413312221358\n",
      "Достоверные различия НЕ обнаружены\n"
     ]
    }
   ],
   "source": [
    "tt_avg_bill = stats.ttest_ind(avg_bill_old, avg_bill_new, equal_var=False)\n",
    "print(f'Уровень значимости t-критерия равен {tt_avg_bill[1]}')\n",
    "if tt_avg_bill[1] < 0.05:\n",
    "      print('Обнаружены достоверные различия')\n",
    "else:\n",
    "      print('Достоверные различия НЕ обнаружены')"
   ]
  },
  {
   "cell_type": "markdown",
   "metadata": {},
   "source": [
    "Еще раз посмотрим на графики в контексте результатов t-теста"
   ]
  },
  {
   "cell_type": "code",
   "execution_count": 245,
   "metadata": {},
   "outputs": [
    {
     "data": {
      "image/png": "[encoded data removed]",
      "text/plain": [
       "<Figure size 1296x432 with 3 Axes>"
      ]
     },
     "metadata": {
      "needs_background": "light"
     },
     "output_type": "display_data"
    }
   ],
   "source": [
    "fig, axes = plt.subplots(1, 3, figsize = (18, 6))\n",
    "axes[0].set_title('Количество заказов')\n",
    "axes[1].set_title('Общая сумма покупок')\n",
    "axes[2].set_title('Средний чек')\n",
    "sns.boxplot(ax = axes[0], data = f_df, x = 'group', y = 'num_orders')\n",
    "sns.boxplot(ax = axes[1], data = f_df, x = 'group', y = 'total_bill')\n",
    "sns.boxplot(ax = axes[2], data = f_df, x = 'group', y = 'avg_bill')\n",
    "plt.show()"
   ]
  },
  {
   "cell_type": "markdown",
   "metadata": {},
   "source": [
    "# Формируем итоговый датасет"
   ]
  },
  {
   "cell_type": "code",
   "execution_count": 246,
   "metadata": {},
   "outputs": [
    {
     "data": {
      "text/html": [
       "<div>\n",
       "<style scoped>\n",
       "    .dataframe tbody tr th:only-of-type {\n",
       "        vertical-align: middle;\n",
       "    }\n",
       "\n",
       "    .dataframe tbody tr th {\n",
       "        vertical-align: top;\n",
       "    }\n",
       "\n",
       "    .dataframe thead th {\n",
       "        text-align: right;\n",
       "    }\n",
       "</style>\n",
       "<table border=\"1\" class=\"dataframe\">\n",
       "  <thead>\n",
       "    <tr style=\"text-align: right;\">\n",
       "      <th>group</th>\n",
       "      <th>new_mean</th>\n",
       "      <th>old_mean</th>\n",
       "    </tr>\n",
       "    <tr>\n",
       "      <th>characteristic</th>\n",
       "      <th></th>\n",
       "      <th></th>\n",
       "    </tr>\n",
       "  </thead>\n",
       "  <tbody>\n",
       "    <tr>\n",
       "      <th>users_number</th>\n",
       "      <td>501.000000</td>\n",
       "      <td>512.000000</td>\n",
       "    </tr>\n",
       "    <tr>\n",
       "      <th>num_orders</th>\n",
       "      <td>4.754491</td>\n",
       "      <td>2.982422</td>\n",
       "    </tr>\n",
       "    <tr>\n",
       "      <th>avg_bill</th>\n",
       "      <td>371.202395</td>\n",
       "      <td>386.037891</td>\n",
       "    </tr>\n",
       "    <tr>\n",
       "      <th>total_bill</th>\n",
       "      <td>1753.749301</td>\n",
       "      <td>1139.562305</td>\n",
       "    </tr>\n",
       "  </tbody>\n",
       "</table>\n",
       "</div>"
      ],
      "text/plain": [
       "group              new_mean     old_mean\n",
       "characteristic                          \n",
       "users_number     501.000000   512.000000\n",
       "num_orders         4.754491     2.982422\n",
       "avg_bill         371.202395   386.037891\n",
       "total_bill      1753.749301  1139.562305"
      ]
     },
     "execution_count": 246,
     "metadata": {},
     "output_type": "execute_result"
    }
   ],
   "source": [
    "#  формируем табличку с описательными характеристиками групп\n",
    "descr_char = f_df.groupby(['group']).agg(users_number = ('user_id', 'count'), \\\n",
    "                            num_orders = ('num_orders', 'mean'), \\\n",
    "                            avg_bill = ('avg_bill', 'mean'), \\\n",
    "                            total_bill = ('total_bill', 'mean'))\\\n",
    "                        .T.reset_index()\n",
    "descr_char = descr_char.rename(columns = {'index': 'characteristic', 'new': 'new_mean', 'old': 'old_mean'}).set_index('characteristic')\n",
    "descr_char"
   ]
  },
  {
   "cell_type": "code",
   "execution_count": 247,
   "metadata": {},
   "outputs": [
    {
     "data": {
      "text/html": [
       "<div>\n",
       "<style scoped>\n",
       "    .dataframe tbody tr th:only-of-type {\n",
       "        vertical-align: middle;\n",
       "    }\n",
       "\n",
       "    .dataframe tbody tr th {\n",
       "        vertical-align: top;\n",
       "    }\n",
       "\n",
       "    .dataframe thead th {\n",
       "        text-align: right;\n",
       "    }\n",
       "</style>\n",
       "<table border=\"1\" class=\"dataframe\">\n",
       "  <thead>\n",
       "    <tr style=\"text-align: right;\">\n",
       "      <th>group</th>\n",
       "      <th>new_mean</th>\n",
       "      <th>old_mean</th>\n",
       "      <th>p_value</th>\n",
       "      <th>p_value_adj</th>\n",
       "    </tr>\n",
       "    <tr>\n",
       "      <th>characteristic</th>\n",
       "      <th></th>\n",
       "      <th></th>\n",
       "      <th></th>\n",
       "      <th></th>\n",
       "    </tr>\n",
       "  </thead>\n",
       "  <tbody>\n",
       "    <tr>\n",
       "      <th>users_number</th>\n",
       "      <td>501.000000</td>\n",
       "      <td>512.000000</td>\n",
       "      <td>NaN</td>\n",
       "      <td>NaN</td>\n",
       "    </tr>\n",
       "    <tr>\n",
       "      <th>num_orders</th>\n",
       "      <td>4.754491</td>\n",
       "      <td>2.982422</td>\n",
       "      <td>1.237410e-40</td>\n",
       "      <td>3.712230e-40</td>\n",
       "    </tr>\n",
       "    <tr>\n",
       "      <th>avg_bill</th>\n",
       "      <td>371.202395</td>\n",
       "      <td>386.037891</td>\n",
       "      <td>1.226413e-01</td>\n",
       "      <td>3.679240e-01</td>\n",
       "    </tr>\n",
       "    <tr>\n",
       "      <th>total_bill</th>\n",
       "      <td>1753.749301</td>\n",
       "      <td>1139.562305</td>\n",
       "      <td>1.572166e-27</td>\n",
       "      <td>4.716499e-27</td>\n",
       "    </tr>\n",
       "  </tbody>\n",
       "</table>\n",
       "</div>"
      ],
      "text/plain": [
       "group              new_mean     old_mean       p_value   p_value_adj\n",
       "characteristic                                                      \n",
       "users_number     501.000000   512.000000           NaN           NaN\n",
       "num_orders         4.754491     2.982422  1.237410e-40  3.712230e-40\n",
       "avg_bill         371.202395   386.037891  1.226413e-01  3.679240e-01\n",
       "total_bill      1753.749301  1139.562305  1.572166e-27  4.716499e-27"
      ]
     },
     "execution_count": 247,
     "metadata": {},
     "output_type": "execute_result"
    }
   ],
   "source": [
    "# добавим колонку с уровнем значимости различий\n",
    "descr_char['p_value'] = np.nan\n",
    "descr_char.p_value.loc['num_orders'] = tt_num_orders[1]\n",
    "descr_char.p_value.loc['avg_bill'] = tt_avg_bill[1]\n",
    "descr_char.p_value.loc['total_bill'] = tt_total_bill[1]\n",
    "# поскольку мы делали три сравнения, скорректируем уровень значимости на количество сравнений\n",
    "descr_char['p_value_adj'] = descr_char.p_value * 3\n",
    "descr_char"
   ]
  },
  {
   "cell_type": "code",
   "execution_count": 248,
   "metadata": {},
   "outputs": [
    {
     "data": {
      "text/html": [
       "<div>\n",
       "<style scoped>\n",
       "    .dataframe tbody tr th:only-of-type {\n",
       "        vertical-align: middle;\n",
       "    }\n",
       "\n",
       "    .dataframe tbody tr th {\n",
       "        vertical-align: top;\n",
       "    }\n",
       "\n",
       "    .dataframe thead th {\n",
       "        text-align: right;\n",
       "    }\n",
       "</style>\n",
       "<table border=\"1\" class=\"dataframe\">\n",
       "  <thead>\n",
       "    <tr style=\"text-align: right;\">\n",
       "      <th>group</th>\n",
       "      <th>new_mean</th>\n",
       "      <th>old_mean</th>\n",
       "      <th>p_value</th>\n",
       "      <th>p_value_adj</th>\n",
       "      <th>new_95_interval</th>\n",
       "      <th>old_95_interval</th>\n",
       "    </tr>\n",
       "    <tr>\n",
       "      <th>characteristic</th>\n",
       "      <th></th>\n",
       "      <th></th>\n",
       "      <th></th>\n",
       "      <th></th>\n",
       "      <th></th>\n",
       "      <th></th>\n",
       "    </tr>\n",
       "  </thead>\n",
       "  <tbody>\n",
       "    <tr>\n",
       "      <th>users_number</th>\n",
       "      <td>501.000000</td>\n",
       "      <td>512.000000</td>\n",
       "      <td>NaN</td>\n",
       "      <td>NaN</td>\n",
       "      <td>NaN</td>\n",
       "      <td>NaN</td>\n",
       "    </tr>\n",
       "    <tr>\n",
       "      <th>num_orders</th>\n",
       "      <td>4.754491</td>\n",
       "      <td>2.982422</td>\n",
       "      <td>1.237410e-40</td>\n",
       "      <td>3.712230e-40</td>\n",
       "      <td>NaN</td>\n",
       "      <td>NaN</td>\n",
       "    </tr>\n",
       "    <tr>\n",
       "      <th>avg_bill</th>\n",
       "      <td>371.202395</td>\n",
       "      <td>386.037891</td>\n",
       "      <td>1.226413e-01</td>\n",
       "      <td>3.679240e-01</td>\n",
       "      <td>NaN</td>\n",
       "      <td>NaN</td>\n",
       "    </tr>\n",
       "    <tr>\n",
       "      <th>total_bill</th>\n",
       "      <td>1753.749301</td>\n",
       "      <td>1139.562305</td>\n",
       "      <td>1.572166e-27</td>\n",
       "      <td>4.716499e-27</td>\n",
       "      <td>NaN</td>\n",
       "      <td>NaN</td>\n",
       "    </tr>\n",
       "  </tbody>\n",
       "</table>\n",
       "</div>"
      ],
      "text/plain": [
       "group              new_mean     old_mean       p_value   p_value_adj  \\\n",
       "characteristic                                                         \n",
       "users_number     501.000000   512.000000           NaN           NaN   \n",
       "num_orders         4.754491     2.982422  1.237410e-40  3.712230e-40   \n",
       "avg_bill         371.202395   386.037891  1.226413e-01  3.679240e-01   \n",
       "total_bill      1753.749301  1139.562305  1.572166e-27  4.716499e-27   \n",
       "\n",
       "group           new_95_interval  old_95_interval  \n",
       "characteristic                                    \n",
       "users_number                NaN              NaN  \n",
       "num_orders                  NaN              NaN  \n",
       "avg_bill                    NaN              NaN  \n",
       "total_bill                  NaN              NaN  "
      ]
     },
     "execution_count": 248,
     "metadata": {},
     "output_type": "execute_result"
    }
   ],
   "source": [
    "# добавим 95-процентные доверительные интервалы для ошибки среднего\n",
    "descr_char['new_95_interval'] = np.nan\n",
    "descr_char['old_95_interval'] = np.nan\n",
    "descr_char"
   ]
  },
  {
   "cell_type": "code",
   "execution_count": 254,
   "metadata": {},
   "outputs": [],
   "source": [
    "descr_char.new_95_interval.loc['num_orders'] = str([i.round(2) for i in stats.t.interval(0.95, df = len(num_orders_new)-1, \\\n",
    "                                                                         loc=np.mean(num_orders_new), \\\n",
    "                                                                             scale=stats.sem(num_orders_new))])\n",
    "descr_char.new_95_interval.loc['avg_bill'] = str([i.round(2) for i in stats.t.interval(0.95, df = len(avg_bill_new)-1, \\\n",
    "                                                                      loc=np.mean(avg_bill_new), \\\n",
    "                                                                      scale=stats.sem(avg_bill_new))])\n",
    "descr_char.new_95_interval.loc['total_bill'] = str([i.round(2) for i in stats.t.interval(0.95, len(total_bill_new)-1, \\\n",
    "                                                                        loc=np.mean(total_bill_new), \\\n",
    "                                                                        scale=stats.sem(total_bill_new))])\n",
    "descr_char.old_95_interval.loc['num_orders'] = str([i.round(2) for i in stats.t.interval(0.95, df = len(num_orders_old)-1, \\\n",
    "                                                                         loc=np.mean(num_orders_old), \\\n",
    "                                                                         scale=stats.sem(num_orders_old))])\n",
    "descr_char.old_95_interval.loc['avg_bill'] = str([i.round(2) for i in stats.t.interval(0.95, df = len(avg_bill_old)-1, \\\n",
    "                                                                      loc=np.mean(avg_bill_old), \\\n",
    "                                                                      scale=stats.sem(avg_bill_old))])\n",
    "descr_char.old_95_interval.loc['total_bill'] = str([i.round(2) for i in stats.t.interval(0.95, len(total_bill_old)-1, \\\n",
    "                                                                        loc=np.mean(total_bill_old), \\\n",
    "                                                                        scale=stats.sem(total_bill_old))])\n",
    "new_order = ['new_mean', 'new_95_interval', 'old_mean', 'old_95_interval', 'p_value', 'p_value_adj']\n",
    "descr_char = descr_char.reindex(columns=new_order)"
   ]
  },
  {
   "cell_type": "markdown",
   "metadata": {},
   "source": [
    "# Итоговая таблица"
   ]
  },
  {
   "cell_type": "code",
   "execution_count": 255,
   "metadata": {},
   "outputs": [
    {
     "data": {
      "text/html": [
       "<style  type=\"text/css\" >\n",
       "</style><table id=\"T_1022a082_45e7_11ef_bdbb_96000040dfb6\" ><thead>    <tr>        <th class=\"index_name level0\" >group</th>        <th class=\"col_heading level0 col0\" >new_mean</th>        <th class=\"col_heading level0 col1\" >new_95_interval</th>        <th class=\"col_heading level0 col2\" >old_mean</th>        <th class=\"col_heading level0 col3\" >old_95_interval</th>        <th class=\"col_heading level0 col4\" >p_value</th>        <th class=\"col_heading level0 col5\" >p_value_adj</th>    </tr>    <tr>        <th class=\"index_name level0\" >characteristic</th>        <th class=\"blank\" ></th>        <th class=\"blank\" ></th>        <th class=\"blank\" ></th>        <th class=\"blank\" ></th>        <th class=\"blank\" ></th>        <th class=\"blank\" ></th>    </tr></thead><tbody>\n",
       "                <tr>\n",
       "                        <th id=\"T_1022a082_45e7_11ef_bdbb_96000040dfb6level0_row0\" class=\"row_heading level0 row0\" >users_number</th>\n",
       "                        <td id=\"T_1022a082_45e7_11ef_bdbb_96000040dfb6row0_col0\" class=\"data row0 col0\" >501.00</td>\n",
       "                        <td id=\"T_1022a082_45e7_11ef_bdbb_96000040dfb6row0_col1\" class=\"data row0 col1\" >nan</td>\n",
       "                        <td id=\"T_1022a082_45e7_11ef_bdbb_96000040dfb6row0_col2\" class=\"data row0 col2\" >512.00</td>\n",
       "                        <td id=\"T_1022a082_45e7_11ef_bdbb_96000040dfb6row0_col3\" class=\"data row0 col3\" >nan</td>\n",
       "                        <td id=\"T_1022a082_45e7_11ef_bdbb_96000040dfb6row0_col4\" class=\"data row0 col4\" >nan</td>\n",
       "                        <td id=\"T_1022a082_45e7_11ef_bdbb_96000040dfb6row0_col5\" class=\"data row0 col5\" >nan</td>\n",
       "            </tr>\n",
       "            <tr>\n",
       "                        <th id=\"T_1022a082_45e7_11ef_bdbb_96000040dfb6level0_row1\" class=\"row_heading level0 row1\" >num_orders</th>\n",
       "                        <td id=\"T_1022a082_45e7_11ef_bdbb_96000040dfb6row1_col0\" class=\"data row1 col0\" >4.75</td>\n",
       "                        <td id=\"T_1022a082_45e7_11ef_bdbb_96000040dfb6row1_col1\" class=\"data row1 col1\" >[4.57, 4.94]</td>\n",
       "                        <td id=\"T_1022a082_45e7_11ef_bdbb_96000040dfb6row1_col2\" class=\"data row1 col2\" >2.98</td>\n",
       "                        <td id=\"T_1022a082_45e7_11ef_bdbb_96000040dfb6row1_col3\" class=\"data row1 col3\" >[2.82, 3.15]</td>\n",
       "                        <td id=\"T_1022a082_45e7_11ef_bdbb_96000040dfb6row1_col4\" class=\"data row1 col4\" >0.00000</td>\n",
       "                        <td id=\"T_1022a082_45e7_11ef_bdbb_96000040dfb6row1_col5\" class=\"data row1 col5\" >0.00000</td>\n",
       "            </tr>\n",
       "            <tr>\n",
       "                        <th id=\"T_1022a082_45e7_11ef_bdbb_96000040dfb6level0_row2\" class=\"row_heading level0 row2\" >avg_bill</th>\n",
       "                        <td id=\"T_1022a082_45e7_11ef_bdbb_96000040dfb6row2_col0\" class=\"data row2 col0\" >371.20</td>\n",
       "                        <td id=\"T_1022a082_45e7_11ef_bdbb_96000040dfb6row2_col1\" class=\"data row2 col1\" >[359.68, 382.72]</td>\n",
       "                        <td id=\"T_1022a082_45e7_11ef_bdbb_96000040dfb6row2_col2\" class=\"data row2 col2\" >386.04</td>\n",
       "                        <td id=\"T_1022a082_45e7_11ef_bdbb_96000040dfb6row2_col3\" class=\"data row2 col3\" >[371.1, 400.97]</td>\n",
       "                        <td id=\"T_1022a082_45e7_11ef_bdbb_96000040dfb6row2_col4\" class=\"data row2 col4\" >0.12264</td>\n",
       "                        <td id=\"T_1022a082_45e7_11ef_bdbb_96000040dfb6row2_col5\" class=\"data row2 col5\" >0.36792</td>\n",
       "            </tr>\n",
       "            <tr>\n",
       "                        <th id=\"T_1022a082_45e7_11ef_bdbb_96000040dfb6level0_row3\" class=\"row_heading level0 row3\" >total_bill</th>\n",
       "                        <td id=\"T_1022a082_45e7_11ef_bdbb_96000040dfb6row3_col0\" class=\"data row3 col0\" >1753.75</td>\n",
       "                        <td id=\"T_1022a082_45e7_11ef_bdbb_96000040dfb6row3_col1\" class=\"data row3 col1\" >[1672.23, 1835.27]</td>\n",
       "                        <td id=\"T_1022a082_45e7_11ef_bdbb_96000040dfb6row3_col2\" class=\"data row3 col2\" >1139.56</td>\n",
       "                        <td id=\"T_1022a082_45e7_11ef_bdbb_96000040dfb6row3_col3\" class=\"data row3 col3\" >[1069.25, 1209.87]</td>\n",
       "                        <td id=\"T_1022a082_45e7_11ef_bdbb_96000040dfb6row3_col4\" class=\"data row3 col4\" >0.00000</td>\n",
       "                        <td id=\"T_1022a082_45e7_11ef_bdbb_96000040dfb6row3_col5\" class=\"data row3 col5\" >0.00000</td>\n",
       "            </tr>\n",
       "    </tbody></table>"
      ],
      "text/plain": [
       "<pandas.io.formats.style.Styler at 0x7efeeb03cf28>"
      ]
     },
     "execution_count": 255,
     "metadata": {},
     "output_type": "execute_result"
    }
   ],
   "source": [
    "descr_char.style.format({'new_mean': '{:.2f}', 'old_mean': '{:.2f}', 'p_value': '{:.5f}', 'p_value_adj': '{:.5f}'})"
   ]
  },
  {
   "cell_type": "markdown",
   "metadata": {},
   "source": [
    "# Вывод"
   ]
  },
  {
   "cell_type": "markdown",
   "metadata": {},
   "source": [
    "Среднее значение количества заказов и среднее значение общей суммы всех заказов достоверно выше у клиентов, которые пользовались новой рекомендательной системой. Следовательно, целесообразно перевести на новую систему рекомендаций всех пользователей. Учитывая что среднее значение среднего чека в двух группах достоверно не различается, можно сделать вывод, что повышение общей суммы заказов у пользователей, которые пользовались новой рекомендательной системой, произошло именно за чет повышения количества заказов."
   ]
  },
  {
   "cell_type": "code",
   "execution_count": null,
   "metadata": {},
   "outputs": [],
   "source": []
  }
 ],
 "metadata": {
  "kernelspec": {
   "display_name": "Python 3",
   "language": "python",
   "name": "python3"
  },
  "language_info": {
   "codemirror_mode": {
    "name": "ipython",
    "version": 3
   },
   "file_extension": ".py",
   "mimetype": "text/x-python",
   "name": "python",
   "nbconvert_exporter": "python",
   "pygments_lexer": "ipython3",
   "version": "3.7.3"
  }
 },
 "nbformat": 4,
 "nbformat_minor": 4
}
